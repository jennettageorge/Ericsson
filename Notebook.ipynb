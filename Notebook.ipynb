{
 "cells": [
  {
   "cell_type": "code",
   "execution_count": 1,
   "metadata": {},
   "outputs": [],
   "source": [
    "import pandas as pd"
   ]
  },
  {
   "cell_type": "code",
   "execution_count": 2,
   "metadata": {},
   "outputs": [
    {
     "data": {
      "text/html": [
       "<div>\n",
       "<style scoped>\n",
       "    .dataframe tbody tr th:only-of-type {\n",
       "        vertical-align: middle;\n",
       "    }\n",
       "\n",
       "    .dataframe tbody tr th {\n",
       "        vertical-align: top;\n",
       "    }\n",
       "\n",
       "    .dataframe thead th {\n",
       "        text-align: right;\n",
       "    }\n",
       "</style>\n",
       "<table border=\"1\" class=\"dataframe\">\n",
       "  <thead>\n",
       "    <tr style=\"text-align: right;\">\n",
       "      <th></th>\n",
       "      <th>PROCESS</th>\n",
       "      <th>WORK_ORDER_NAME</th>\n",
       "      <th>NUMBER_OF_EDITS</th>\n",
       "      <th>START_EDITING</th>\n",
       "      <th>STOP_EDITING</th>\n",
       "      <th>POSTING_DURATION</th>\n",
       "      <th>POSTING_START</th>\n",
       "      <th>Unnamed: 7</th>\n",
       "      <th>Unnamed: 8</th>\n",
       "      <th>Unnamed: 9</th>\n",
       "      <th>Unnamed: 10</th>\n",
       "      <th>Unnamed: 11</th>\n",
       "      <th>Unnamed: 12</th>\n",
       "      <th>Unnamed: 13</th>\n",
       "      <th>Unnamed: 14</th>\n",
       "    </tr>\n",
       "  </thead>\n",
       "  <tbody>\n",
       "    <tr>\n",
       "      <th>0</th>\n",
       "      <td>NE</td>\n",
       "      <td>NE.0326_0001</td>\n",
       "      <td>39.0</td>\n",
       "      <td>NaN</td>\n",
       "      <td>NaN</td>\n",
       "      <td>00:00:09</td>\n",
       "      <td>3/28/2020 9:00</td>\n",
       "      <td>NaN</td>\n",
       "      <td>NaN</td>\n",
       "      <td>NaN</td>\n",
       "      <td>NaN</td>\n",
       "      <td>NaN</td>\n",
       "      <td>NaN</td>\n",
       "      <td>NaN</td>\n",
       "      <td>NaN</td>\n",
       "    </tr>\n",
       "    <tr>\n",
       "      <th>1</th>\n",
       "      <td>NE</td>\n",
       "      <td>NE.0327_001</td>\n",
       "      <td>129.0</td>\n",
       "      <td>NaN</td>\n",
       "      <td>NaN</td>\n",
       "      <td>00:00:39</td>\n",
       "      <td>3/29/2020 19:59</td>\n",
       "      <td>NaN</td>\n",
       "      <td>NaN</td>\n",
       "      <td>NaN</td>\n",
       "      <td>NaN</td>\n",
       "      <td>NaN</td>\n",
       "      <td>NaN</td>\n",
       "      <td>NaN</td>\n",
       "      <td>NaN</td>\n",
       "    </tr>\n",
       "    <tr>\n",
       "      <th>2</th>\n",
       "      <td>NE</td>\n",
       "      <td>NE.0328_002</td>\n",
       "      <td>1.0</td>\n",
       "      <td>NaN</td>\n",
       "      <td>NaN</td>\n",
       "      <td>00:00:07</td>\n",
       "      <td>3/29/2020 20:22</td>\n",
       "      <td>NaN</td>\n",
       "      <td>NaN</td>\n",
       "      <td>NaN</td>\n",
       "      <td>NaN</td>\n",
       "      <td>NaN</td>\n",
       "      <td>NaN</td>\n",
       "      <td>NaN</td>\n",
       "      <td>NaN</td>\n",
       "    </tr>\n",
       "    <tr>\n",
       "      <th>3</th>\n",
       "      <td>NE</td>\n",
       "      <td>NE.65989</td>\n",
       "      <td>1.0</td>\n",
       "      <td>NaN</td>\n",
       "      <td>NaN</td>\n",
       "      <td>00:00:10</td>\n",
       "      <td>3/26/2020 21:26</td>\n",
       "      <td>NaN</td>\n",
       "      <td>NaN</td>\n",
       "      <td>NaN</td>\n",
       "      <td>NaN</td>\n",
       "      <td>NaN</td>\n",
       "      <td>NaN</td>\n",
       "      <td>NaN</td>\n",
       "      <td>NaN</td>\n",
       "    </tr>\n",
       "    <tr>\n",
       "      <th>4</th>\n",
       "      <td>NE</td>\n",
       "      <td>NE.65990</td>\n",
       "      <td>1.0</td>\n",
       "      <td>NaN</td>\n",
       "      <td>NaN</td>\n",
       "      <td>00:00:08</td>\n",
       "      <td>3/27/2020 9:00</td>\n",
       "      <td>NaN</td>\n",
       "      <td>NaN</td>\n",
       "      <td>NaN</td>\n",
       "      <td>NaN</td>\n",
       "      <td>NaN</td>\n",
       "      <td>NaN</td>\n",
       "      <td>NaN</td>\n",
       "      <td>NaN</td>\n",
       "    </tr>\n",
       "  </tbody>\n",
       "</table>\n",
       "</div>"
      ],
      "text/plain": [
       "  PROCESS WORK_ORDER_NAME  NUMBER_OF_EDITS START_EDITING STOP_EDITING  \\\n",
       "0      NE    NE.0326_0001             39.0           NaN          NaN   \n",
       "1      NE     NE.0327_001            129.0           NaN          NaN   \n",
       "2      NE     NE.0328_002              1.0           NaN          NaN   \n",
       "3      NE        NE.65989              1.0           NaN          NaN   \n",
       "4      NE        NE.65990              1.0           NaN          NaN   \n",
       "\n",
       "  POSTING_DURATION    POSTING_START  Unnamed: 7  Unnamed: 8  Unnamed: 9  \\\n",
       "0         00:00:09   3/28/2020 9:00         NaN         NaN         NaN   \n",
       "1         00:00:39  3/29/2020 19:59         NaN         NaN         NaN   \n",
       "2         00:00:07  3/29/2020 20:22         NaN         NaN         NaN   \n",
       "3         00:00:10  3/26/2020 21:26         NaN         NaN         NaN   \n",
       "4         00:00:08   3/27/2020 9:00         NaN         NaN         NaN   \n",
       "\n",
       "   Unnamed: 10  Unnamed: 11  Unnamed: 12  Unnamed: 13  Unnamed: 14  \n",
       "0          NaN          NaN          NaN          NaN          NaN  \n",
       "1          NaN          NaN          NaN          NaN          NaN  \n",
       "2          NaN          NaN          NaN          NaN          NaN  \n",
       "3          NaN          NaN          NaN          NaN          NaN  \n",
       "4          NaN          NaN          NaN          NaN          NaN  "
      ]
     },
     "execution_count": 2,
     "metadata": {},
     "output_type": "execute_result"
    }
   ],
   "source": [
    "df = pd.read_csv('WorkOrderPostStats2.csv')\n",
    "df.head()"
   ]
  },
  {
   "cell_type": "code",
   "execution_count": 3,
   "metadata": {},
   "outputs": [],
   "source": [
    "df = df[['PROCESS','WORK_ORDER_NAME','NUMBER_OF_EDITS','POSTING_START','POSTING_DURATION']]"
   ]
  },
  {
   "cell_type": "code",
   "execution_count": 4,
   "metadata": {},
   "outputs": [
    {
     "data": {
      "text/html": [
       "<div>\n",
       "<style scoped>\n",
       "    .dataframe tbody tr th:only-of-type {\n",
       "        vertical-align: middle;\n",
       "    }\n",
       "\n",
       "    .dataframe tbody tr th {\n",
       "        vertical-align: top;\n",
       "    }\n",
       "\n",
       "    .dataframe thead th {\n",
       "        text-align: right;\n",
       "    }\n",
       "</style>\n",
       "<table border=\"1\" class=\"dataframe\">\n",
       "  <thead>\n",
       "    <tr style=\"text-align: right;\">\n",
       "      <th></th>\n",
       "      <th>PROCESS</th>\n",
       "      <th>WORK_ORDER_NAME</th>\n",
       "      <th>NUMBER_OF_EDITS</th>\n",
       "      <th>POSTING_START</th>\n",
       "      <th>POSTING_DURATION</th>\n",
       "    </tr>\n",
       "  </thead>\n",
       "  <tbody>\n",
       "    <tr>\n",
       "      <th>0</th>\n",
       "      <td>NE</td>\n",
       "      <td>NE.0326_0001</td>\n",
       "      <td>39.0</td>\n",
       "      <td>3/28/2020 9:00</td>\n",
       "      <td>00:00:09</td>\n",
       "    </tr>\n",
       "    <tr>\n",
       "      <th>1</th>\n",
       "      <td>NE</td>\n",
       "      <td>NE.0327_001</td>\n",
       "      <td>129.0</td>\n",
       "      <td>3/29/2020 19:59</td>\n",
       "      <td>00:00:39</td>\n",
       "    </tr>\n",
       "    <tr>\n",
       "      <th>2</th>\n",
       "      <td>NE</td>\n",
       "      <td>NE.0328_002</td>\n",
       "      <td>1.0</td>\n",
       "      <td>3/29/2020 20:22</td>\n",
       "      <td>00:00:07</td>\n",
       "    </tr>\n",
       "    <tr>\n",
       "      <th>3</th>\n",
       "      <td>NE</td>\n",
       "      <td>NE.65989</td>\n",
       "      <td>1.0</td>\n",
       "      <td>3/26/2020 21:26</td>\n",
       "      <td>00:00:10</td>\n",
       "    </tr>\n",
       "    <tr>\n",
       "      <th>4</th>\n",
       "      <td>NE</td>\n",
       "      <td>NE.65990</td>\n",
       "      <td>1.0</td>\n",
       "      <td>3/27/2020 9:00</td>\n",
       "      <td>00:00:08</td>\n",
       "    </tr>\n",
       "  </tbody>\n",
       "</table>\n",
       "</div>"
      ],
      "text/plain": [
       "  PROCESS WORK_ORDER_NAME  NUMBER_OF_EDITS    POSTING_START POSTING_DURATION\n",
       "0      NE    NE.0326_0001             39.0   3/28/2020 9:00         00:00:09\n",
       "1      NE     NE.0327_001            129.0  3/29/2020 19:59         00:00:39\n",
       "2      NE     NE.0328_002              1.0  3/29/2020 20:22         00:00:07\n",
       "3      NE        NE.65989              1.0  3/26/2020 21:26         00:00:10\n",
       "4      NE        NE.65990              1.0   3/27/2020 9:00         00:00:08"
      ]
     },
     "execution_count": 4,
     "metadata": {},
     "output_type": "execute_result"
    }
   ],
   "source": [
    "df.head()"
   ]
  },
  {
   "cell_type": "code",
   "execution_count": 159,
   "metadata": {},
   "outputs": [
    {
     "data": {
      "text/plain": [
       "PROCESS                    object\n",
       "WORK_ORDER_NAME            object\n",
       "NUMBER_OF_EDITS           float64\n",
       "POSTING_START      datetime64[ns]\n",
       "duration                  float64\n",
       "dtype: object"
      ]
     },
     "execution_count": 159,
     "metadata": {},
     "output_type": "execute_result"
    }
   ],
   "source": [
    "df['POSTING_START'] = pd.to_datetime(df.POSTING_START)\n",
    "df.dtypes"
   ]
  },
  {
   "cell_type": "code",
   "execution_count": 8,
   "metadata": {},
   "outputs": [
    {
     "data": {
      "text/html": [
       "<div>\n",
       "<style scoped>\n",
       "    .dataframe tbody tr th:only-of-type {\n",
       "        vertical-align: middle;\n",
       "    }\n",
       "\n",
       "    .dataframe tbody tr th {\n",
       "        vertical-align: top;\n",
       "    }\n",
       "\n",
       "    .dataframe thead th {\n",
       "        text-align: right;\n",
       "    }\n",
       "</style>\n",
       "<table border=\"1\" class=\"dataframe\">\n",
       "  <thead>\n",
       "    <tr style=\"text-align: right;\">\n",
       "      <th></th>\n",
       "      <th>PROCESS</th>\n",
       "      <th>WORK_ORDER_NAME</th>\n",
       "      <th>NUMBER_OF_EDITS</th>\n",
       "      <th>POSTING_START</th>\n",
       "      <th>POSTING_DURATION</th>\n",
       "      <th>duration</th>\n",
       "    </tr>\n",
       "  </thead>\n",
       "  <tbody>\n",
       "    <tr>\n",
       "      <th>0</th>\n",
       "      <td>NE</td>\n",
       "      <td>NE.0326_0001</td>\n",
       "      <td>39.0</td>\n",
       "      <td>2020-03-28 09:00:00</td>\n",
       "      <td>00:00:09</td>\n",
       "      <td>9.0</td>\n",
       "    </tr>\n",
       "    <tr>\n",
       "      <th>1</th>\n",
       "      <td>NE</td>\n",
       "      <td>NE.0327_001</td>\n",
       "      <td>129.0</td>\n",
       "      <td>2020-03-29 19:59:00</td>\n",
       "      <td>00:00:39</td>\n",
       "      <td>39.0</td>\n",
       "    </tr>\n",
       "    <tr>\n",
       "      <th>2</th>\n",
       "      <td>NE</td>\n",
       "      <td>NE.0328_002</td>\n",
       "      <td>1.0</td>\n",
       "      <td>2020-03-29 20:22:00</td>\n",
       "      <td>00:00:07</td>\n",
       "      <td>7.0</td>\n",
       "    </tr>\n",
       "    <tr>\n",
       "      <th>3</th>\n",
       "      <td>NE</td>\n",
       "      <td>NE.65989</td>\n",
       "      <td>1.0</td>\n",
       "      <td>2020-03-26 21:26:00</td>\n",
       "      <td>00:00:10</td>\n",
       "      <td>10.0</td>\n",
       "    </tr>\n",
       "    <tr>\n",
       "      <th>4</th>\n",
       "      <td>NE</td>\n",
       "      <td>NE.65990</td>\n",
       "      <td>1.0</td>\n",
       "      <td>2020-03-27 09:00:00</td>\n",
       "      <td>00:00:08</td>\n",
       "      <td>8.0</td>\n",
       "    </tr>\n",
       "  </tbody>\n",
       "</table>\n",
       "</div>"
      ],
      "text/plain": [
       "  PROCESS WORK_ORDER_NAME  NUMBER_OF_EDITS       POSTING_START  \\\n",
       "0      NE    NE.0326_0001             39.0 2020-03-28 09:00:00   \n",
       "1      NE     NE.0327_001            129.0 2020-03-29 19:59:00   \n",
       "2      NE     NE.0328_002              1.0 2020-03-29 20:22:00   \n",
       "3      NE        NE.65989              1.0 2020-03-26 21:26:00   \n",
       "4      NE        NE.65990              1.0 2020-03-27 09:00:00   \n",
       "\n",
       "  POSTING_DURATION  duration  \n",
       "0         00:00:09       9.0  \n",
       "1         00:00:39      39.0  \n",
       "2         00:00:07       7.0  \n",
       "3         00:00:10      10.0  \n",
       "4         00:00:08       8.0  "
      ]
     },
     "execution_count": 8,
     "metadata": {},
     "output_type": "execute_result"
    }
   ],
   "source": [
    "df['duration'] = pd.to_timedelta(df.POSTING_DURATION)\n",
    "df['duration'] = df['duration'].dt.total_seconds()\n",
    "df.head()"
   ]
  },
  {
   "cell_type": "code",
   "execution_count": 9,
   "metadata": {},
   "outputs": [],
   "source": [
    "df.drop('POSTING_DURATION',axis=1,inplace=True)\n",
    "df = df[df.NUMBER_OF_EDITS !=1]"
   ]
  },
  {
   "cell_type": "code",
   "execution_count": 12,
   "metadata": {},
   "outputs": [
    {
     "data": {
      "text/html": [
       "<div>\n",
       "<style scoped>\n",
       "    .dataframe tbody tr th:only-of-type {\n",
       "        vertical-align: middle;\n",
       "    }\n",
       "\n",
       "    .dataframe tbody tr th {\n",
       "        vertical-align: top;\n",
       "    }\n",
       "\n",
       "    .dataframe thead th {\n",
       "        text-align: right;\n",
       "    }\n",
       "</style>\n",
       "<table border=\"1\" class=\"dataframe\">\n",
       "  <thead>\n",
       "    <tr style=\"text-align: right;\">\n",
       "      <th></th>\n",
       "      <th>NUMBER_OF_EDITS</th>\n",
       "      <th>duration</th>\n",
       "    </tr>\n",
       "    <tr>\n",
       "      <th>POSTING_START</th>\n",
       "      <th></th>\n",
       "      <th></th>\n",
       "    </tr>\n",
       "  </thead>\n",
       "  <tbody>\n",
       "    <tr>\n",
       "      <th>2020-03-23</th>\n",
       "      <td>387573.0</td>\n",
       "      <td>12204.0</td>\n",
       "    </tr>\n",
       "    <tr>\n",
       "      <th>2020-03-24</th>\n",
       "      <td>437059.0</td>\n",
       "      <td>25522.0</td>\n",
       "    </tr>\n",
       "    <tr>\n",
       "      <th>2020-03-26</th>\n",
       "      <td>550831.0</td>\n",
       "      <td>33354.0</td>\n",
       "    </tr>\n",
       "    <tr>\n",
       "      <th>2020-03-27</th>\n",
       "      <td>579633.0</td>\n",
       "      <td>38809.0</td>\n",
       "    </tr>\n",
       "    <tr>\n",
       "      <th>2020-03-28</th>\n",
       "      <td>1652135.0</td>\n",
       "      <td>58738.0</td>\n",
       "    </tr>\n",
       "    <tr>\n",
       "      <th>2020-03-29</th>\n",
       "      <td>2065738.0</td>\n",
       "      <td>67327.0</td>\n",
       "    </tr>\n",
       "    <tr>\n",
       "      <th>2020-03-30</th>\n",
       "      <td>1412257.0</td>\n",
       "      <td>35411.0</td>\n",
       "    </tr>\n",
       "    <tr>\n",
       "      <th>2020-03-31</th>\n",
       "      <td>77835.0</td>\n",
       "      <td>2455.0</td>\n",
       "    </tr>\n",
       "  </tbody>\n",
       "</table>\n",
       "</div>"
      ],
      "text/plain": [
       "               NUMBER_OF_EDITS  duration\n",
       "POSTING_START                           \n",
       "2020-03-23            387573.0   12204.0\n",
       "2020-03-24            437059.0   25522.0\n",
       "2020-03-26            550831.0   33354.0\n",
       "2020-03-27            579633.0   38809.0\n",
       "2020-03-28           1652135.0   58738.0\n",
       "2020-03-29           2065738.0   67327.0\n",
       "2020-03-30           1412257.0   35411.0\n",
       "2020-03-31             77835.0    2455.0"
      ]
     },
     "execution_count": 12,
     "metadata": {},
     "output_type": "execute_result"
    }
   ],
   "source": [
    "grouped = df.groupby([df['POSTING_START'].dt.date]).sum()\n",
    "grouped"
   ]
  },
  {
   "cell_type": "code",
   "execution_count": 160,
   "metadata": {},
   "outputs": [
    {
     "data": {
      "text/html": [
       "<div>\n",
       "<style scoped>\n",
       "    .dataframe tbody tr th:only-of-type {\n",
       "        vertical-align: middle;\n",
       "    }\n",
       "\n",
       "    .dataframe tbody tr th {\n",
       "        vertical-align: top;\n",
       "    }\n",
       "\n",
       "    .dataframe thead th {\n",
       "        text-align: right;\n",
       "    }\n",
       "</style>\n",
       "<table border=\"1\" class=\"dataframe\">\n",
       "  <thead>\n",
       "    <tr style=\"text-align: right;\">\n",
       "      <th></th>\n",
       "      <th>NUMBER_OF_EDITS</th>\n",
       "      <th>duration</th>\n",
       "      <th>duration_remaining_in_day</th>\n",
       "    </tr>\n",
       "    <tr>\n",
       "      <th>POSTING_START</th>\n",
       "      <th></th>\n",
       "      <th></th>\n",
       "      <th></th>\n",
       "    </tr>\n",
       "  </thead>\n",
       "  <tbody>\n",
       "    <tr>\n",
       "      <th>2020-03-23</th>\n",
       "      <td>387573.0</td>\n",
       "      <td>12204.0</td>\n",
       "      <td>48996.0</td>\n",
       "    </tr>\n",
       "    <tr>\n",
       "      <th>2020-03-24</th>\n",
       "      <td>437059.0</td>\n",
       "      <td>25522.0</td>\n",
       "      <td>35678.0</td>\n",
       "    </tr>\n",
       "    <tr>\n",
       "      <th>2020-03-26</th>\n",
       "      <td>550831.0</td>\n",
       "      <td>33354.0</td>\n",
       "      <td>27846.0</td>\n",
       "    </tr>\n",
       "    <tr>\n",
       "      <th>2020-03-27</th>\n",
       "      <td>579633.0</td>\n",
       "      <td>38809.0</td>\n",
       "      <td>22391.0</td>\n",
       "    </tr>\n",
       "    <tr>\n",
       "      <th>2020-03-28</th>\n",
       "      <td>1652135.0</td>\n",
       "      <td>58738.0</td>\n",
       "      <td>2462.0</td>\n",
       "    </tr>\n",
       "    <tr>\n",
       "      <th>2020-03-29</th>\n",
       "      <td>2065738.0</td>\n",
       "      <td>67327.0</td>\n",
       "      <td>-6127.0</td>\n",
       "    </tr>\n",
       "    <tr>\n",
       "      <th>2020-03-30</th>\n",
       "      <td>1412257.0</td>\n",
       "      <td>35411.0</td>\n",
       "      <td>25789.0</td>\n",
       "    </tr>\n",
       "    <tr>\n",
       "      <th>2020-03-31</th>\n",
       "      <td>77835.0</td>\n",
       "      <td>2455.0</td>\n",
       "      <td>58745.0</td>\n",
       "    </tr>\n",
       "  </tbody>\n",
       "</table>\n",
       "</div>"
      ],
      "text/plain": [
       "               NUMBER_OF_EDITS  duration  duration_remaining_in_day\n",
       "POSTING_START                                                      \n",
       "2020-03-23            387573.0   12204.0                    48996.0\n",
       "2020-03-24            437059.0   25522.0                    35678.0\n",
       "2020-03-26            550831.0   33354.0                    27846.0\n",
       "2020-03-27            579633.0   38809.0                    22391.0\n",
       "2020-03-28           1652135.0   58738.0                     2462.0\n",
       "2020-03-29           2065738.0   67327.0                    -6127.0\n",
       "2020-03-30           1412257.0   35411.0                    25789.0\n",
       "2020-03-31             77835.0    2455.0                    58745.0"
      ]
     },
     "execution_count": 160,
     "metadata": {},
     "output_type": "execute_result"
    }
   ],
   "source": [
    "grouped['duration_remaining_in_day']= 61200 - grouped['duration']\n",
    "grouped"
   ]
  },
  {
   "cell_type": "code",
   "execution_count": 161,
   "metadata": {},
   "outputs": [
    {
     "data": {
      "text/html": [
       "<div>\n",
       "<style scoped>\n",
       "    .dataframe tbody tr th:only-of-type {\n",
       "        vertical-align: middle;\n",
       "    }\n",
       "\n",
       "    .dataframe tbody tr th {\n",
       "        vertical-align: top;\n",
       "    }\n",
       "\n",
       "    .dataframe thead th {\n",
       "        text-align: right;\n",
       "    }\n",
       "</style>\n",
       "<table border=\"1\" class=\"dataframe\">\n",
       "  <thead>\n",
       "    <tr style=\"text-align: right;\">\n",
       "      <th></th>\n",
       "      <th>PROCESS</th>\n",
       "      <th>WORK_ORDER_NAME</th>\n",
       "      <th>NUMBER_OF_EDITS</th>\n",
       "      <th>POSTING_START</th>\n",
       "      <th>duration</th>\n",
       "      <th>dur_per_edit</th>\n",
       "    </tr>\n",
       "  </thead>\n",
       "  <tbody>\n",
       "    <tr>\n",
       "      <th>0</th>\n",
       "      <td>NE</td>\n",
       "      <td>NE.0326_0001</td>\n",
       "      <td>39.0</td>\n",
       "      <td>2020-03-28 09:00:00</td>\n",
       "      <td>9.0</td>\n",
       "      <td>0.230769</td>\n",
       "    </tr>\n",
       "    <tr>\n",
       "      <th>1</th>\n",
       "      <td>NE</td>\n",
       "      <td>NE.0327_001</td>\n",
       "      <td>129.0</td>\n",
       "      <td>2020-03-29 19:59:00</td>\n",
       "      <td>39.0</td>\n",
       "      <td>0.302326</td>\n",
       "    </tr>\n",
       "    <tr>\n",
       "      <th>6</th>\n",
       "      <td>NE</td>\n",
       "      <td>NE.DB-1</td>\n",
       "      <td>1256.0</td>\n",
       "      <td>2020-03-31 00:06:00</td>\n",
       "      <td>68.0</td>\n",
       "      <td>0.054140</td>\n",
       "    </tr>\n",
       "    <tr>\n",
       "      <th>7</th>\n",
       "      <td>NE</td>\n",
       "      <td>NE.DB-10</td>\n",
       "      <td>1256.0</td>\n",
       "      <td>2020-03-26 23:46:00</td>\n",
       "      <td>72.0</td>\n",
       "      <td>0.057325</td>\n",
       "    </tr>\n",
       "    <tr>\n",
       "      <th>8</th>\n",
       "      <td>NE</td>\n",
       "      <td>NE.DB-10</td>\n",
       "      <td>1260.0</td>\n",
       "      <td>2020-03-30 17:05:00</td>\n",
       "      <td>2.0</td>\n",
       "      <td>0.001587</td>\n",
       "    </tr>\n",
       "  </tbody>\n",
       "</table>\n",
       "</div>"
      ],
      "text/plain": [
       "  PROCESS WORK_ORDER_NAME  NUMBER_OF_EDITS       POSTING_START  duration  \\\n",
       "0      NE    NE.0326_0001             39.0 2020-03-28 09:00:00       9.0   \n",
       "1      NE     NE.0327_001            129.0 2020-03-29 19:59:00      39.0   \n",
       "6      NE         NE.DB-1           1256.0 2020-03-31 00:06:00      68.0   \n",
       "7      NE        NE.DB-10           1256.0 2020-03-26 23:46:00      72.0   \n",
       "8      NE        NE.DB-10           1260.0 2020-03-30 17:05:00       2.0   \n",
       "\n",
       "   dur_per_edit  \n",
       "0      0.230769  \n",
       "1      0.302326  \n",
       "6      0.054140  \n",
       "7      0.057325  \n",
       "8      0.001587  "
      ]
     },
     "execution_count": 161,
     "metadata": {},
     "output_type": "execute_result"
    }
   ],
   "source": [
    "NE = df[df['PROCESS']=='NE'] #122 rows of NE\n",
    "NE.head()"
   ]
  },
  {
   "cell_type": "code",
   "execution_count": 16,
   "metadata": {},
   "outputs": [
    {
     "name": "stderr",
     "output_type": "stream",
     "text": [
      "/Users/jennetta/Library/Python/3.7/lib/python/site-packages/ipykernel_launcher.py:1: SettingWithCopyWarning: \n",
      "A value is trying to be set on a copy of a slice from a DataFrame.\n",
      "Try using .loc[row_indexer,col_indexer] = value instead\n",
      "\n",
      "See the caveats in the documentation: https://pandas.pydata.org/pandas-docs/stable/user_guide/indexing.html#returning-a-view-versus-a-copy\n",
      "  \"\"\"Entry point for launching an IPython kernel.\n"
     ]
    }
   ],
   "source": [
    "NE['dur_per_edit'] = NE.duration / NE.NUMBER_OF_EDITS "
   ]
  },
  {
   "cell_type": "code",
   "execution_count": 162,
   "metadata": {},
   "outputs": [
    {
     "data": {
      "text/html": [
       "<div>\n",
       "<style scoped>\n",
       "    .dataframe tbody tr th:only-of-type {\n",
       "        vertical-align: middle;\n",
       "    }\n",
       "\n",
       "    .dataframe tbody tr th {\n",
       "        vertical-align: top;\n",
       "    }\n",
       "\n",
       "    .dataframe thead th {\n",
       "        text-align: right;\n",
       "    }\n",
       "</style>\n",
       "<table border=\"1\" class=\"dataframe\">\n",
       "  <thead>\n",
       "    <tr style=\"text-align: right;\">\n",
       "      <th></th>\n",
       "      <th>PROCESS</th>\n",
       "      <th>WORK_ORDER_NAME</th>\n",
       "      <th>NUMBER_OF_EDITS</th>\n",
       "      <th>POSTING_START</th>\n",
       "      <th>duration</th>\n",
       "      <th>dur_per_edit</th>\n",
       "    </tr>\n",
       "  </thead>\n",
       "  <tbody>\n",
       "    <tr>\n",
       "      <th>122</th>\n",
       "      <td>SDE</td>\n",
       "      <td>SDE.13484</td>\n",
       "      <td>750.0</td>\n",
       "      <td>2020-03-29 03:00:00</td>\n",
       "      <td>62.0</td>\n",
       "      <td>0.082667</td>\n",
       "    </tr>\n",
       "    <tr>\n",
       "      <th>123</th>\n",
       "      <td>SDE</td>\n",
       "      <td>SDE.13486</td>\n",
       "      <td>623.0</td>\n",
       "      <td>2020-03-29 03:01:00</td>\n",
       "      <td>61.0</td>\n",
       "      <td>0.097913</td>\n",
       "    </tr>\n",
       "    <tr>\n",
       "      <th>124</th>\n",
       "      <td>SDE</td>\n",
       "      <td>SDE.13487</td>\n",
       "      <td>956.0</td>\n",
       "      <td>2020-03-29 04:02:00</td>\n",
       "      <td>64.0</td>\n",
       "      <td>0.066946</td>\n",
       "    </tr>\n",
       "    <tr>\n",
       "      <th>125</th>\n",
       "      <td>SDE</td>\n",
       "      <td>SDE.13489</td>\n",
       "      <td>2089.0</td>\n",
       "      <td>2020-03-29 03:31:00</td>\n",
       "      <td>66.0</td>\n",
       "      <td>0.031594</td>\n",
       "    </tr>\n",
       "    <tr>\n",
       "      <th>126</th>\n",
       "      <td>SDE</td>\n",
       "      <td>SDE.13490</td>\n",
       "      <td>1841.0</td>\n",
       "      <td>2020-03-29 03:17:00</td>\n",
       "      <td>64.0</td>\n",
       "      <td>0.034764</td>\n",
       "    </tr>\n",
       "  </tbody>\n",
       "</table>\n",
       "</div>"
      ],
      "text/plain": [
       "    PROCESS WORK_ORDER_NAME  NUMBER_OF_EDITS       POSTING_START  duration  \\\n",
       "122     SDE       SDE.13484            750.0 2020-03-29 03:00:00      62.0   \n",
       "123     SDE       SDE.13486            623.0 2020-03-29 03:01:00      61.0   \n",
       "124     SDE       SDE.13487            956.0 2020-03-29 04:02:00      64.0   \n",
       "125     SDE       SDE.13489           2089.0 2020-03-29 03:31:00      66.0   \n",
       "126     SDE       SDE.13490           1841.0 2020-03-29 03:17:00      64.0   \n",
       "\n",
       "     dur_per_edit  \n",
       "122      0.082667  \n",
       "123      0.097913  \n",
       "124      0.066946  \n",
       "125      0.031594  \n",
       "126      0.034764  "
      ]
     },
     "execution_count": 162,
     "metadata": {},
     "output_type": "execute_result"
    }
   ],
   "source": [
    "SDE = df[df['PROCESS']=='SDE']\n",
    "SDE.head()"
   ]
  },
  {
   "cell_type": "code",
   "execution_count": 18,
   "metadata": {},
   "outputs": [
    {
     "name": "stderr",
     "output_type": "stream",
     "text": [
      "/Users/jennetta/Library/Python/3.7/lib/python/site-packages/ipykernel_launcher.py:1: SettingWithCopyWarning: \n",
      "A value is trying to be set on a copy of a slice from a DataFrame.\n",
      "Try using .loc[row_indexer,col_indexer] = value instead\n",
      "\n",
      "See the caveats in the documentation: https://pandas.pydata.org/pandas-docs/stable/user_guide/indexing.html#returning-a-view-versus-a-copy\n",
      "  \"\"\"Entry point for launching an IPython kernel.\n"
     ]
    }
   ],
   "source": [
    "SDE['dur_per_edit'] = SDE.duration / SDE.NUMBER_OF_EDITS "
   ]
  },
  {
   "cell_type": "code",
   "execution_count": 19,
   "metadata": {},
   "outputs": [
    {
     "data": {
      "text/html": [
       "<div>\n",
       "<style scoped>\n",
       "    .dataframe tbody tr th:only-of-type {\n",
       "        vertical-align: middle;\n",
       "    }\n",
       "\n",
       "    .dataframe tbody tr th {\n",
       "        vertical-align: top;\n",
       "    }\n",
       "\n",
       "    .dataframe thead th {\n",
       "        text-align: right;\n",
       "    }\n",
       "</style>\n",
       "<table border=\"1\" class=\"dataframe\">\n",
       "  <thead>\n",
       "    <tr style=\"text-align: right;\">\n",
       "      <th></th>\n",
       "      <th>PROCESS</th>\n",
       "      <th>WORK_ORDER_NAME</th>\n",
       "      <th>NUMBER_OF_EDITS</th>\n",
       "      <th>POSTING_START</th>\n",
       "      <th>duration</th>\n",
       "      <th>dur_per_edit</th>\n",
       "    </tr>\n",
       "  </thead>\n",
       "  <tbody>\n",
       "    <tr>\n",
       "      <th>3984</th>\n",
       "      <td>SDE</td>\n",
       "      <td>SDE.50379</td>\n",
       "      <td>419.0</td>\n",
       "      <td>2020-03-26 14:00:00</td>\n",
       "      <td>677.0</td>\n",
       "      <td>1.615752</td>\n",
       "    </tr>\n",
       "    <tr>\n",
       "      <th>4002</th>\n",
       "      <td>SDE</td>\n",
       "      <td>SDE.50391</td>\n",
       "      <td>347.0</td>\n",
       "      <td>2020-03-27 14:33:00</td>\n",
       "      <td>398.0</td>\n",
       "      <td>1.146974</td>\n",
       "    </tr>\n",
       "    <tr>\n",
       "      <th>8413</th>\n",
       "      <td>SDE</td>\n",
       "      <td>SDE.53541</td>\n",
       "      <td>445.0</td>\n",
       "      <td>2020-03-29 00:59:00</td>\n",
       "      <td>3655.0</td>\n",
       "      <td>8.213483</td>\n",
       "    </tr>\n",
       "  </tbody>\n",
       "</table>\n",
       "</div>"
      ],
      "text/plain": [
       "     PROCESS WORK_ORDER_NAME  NUMBER_OF_EDITS       POSTING_START  duration  \\\n",
       "3984     SDE       SDE.50379            419.0 2020-03-26 14:00:00     677.0   \n",
       "4002     SDE       SDE.50391            347.0 2020-03-27 14:33:00     398.0   \n",
       "8413     SDE       SDE.53541            445.0 2020-03-29 00:59:00    3655.0   \n",
       "\n",
       "      dur_per_edit  \n",
       "3984      1.615752  \n",
       "4002      1.146974  \n",
       "8413      8.213483  "
      ]
     },
     "execution_count": 19,
     "metadata": {},
     "output_type": "execute_result"
    }
   ],
   "source": [
    "SDE[SDE['duration']>300]"
   ]
  },
  {
   "cell_type": "code",
   "execution_count": 20,
   "metadata": {},
   "outputs": [
    {
     "data": {
      "text/html": [
       "<div>\n",
       "<style scoped>\n",
       "    .dataframe tbody tr th:only-of-type {\n",
       "        vertical-align: middle;\n",
       "    }\n",
       "\n",
       "    .dataframe tbody tr th {\n",
       "        vertical-align: top;\n",
       "    }\n",
       "\n",
       "    .dataframe thead th {\n",
       "        text-align: right;\n",
       "    }\n",
       "</style>\n",
       "<table border=\"1\" class=\"dataframe\">\n",
       "  <thead>\n",
       "    <tr style=\"text-align: right;\">\n",
       "      <th></th>\n",
       "      <th>PROCESS</th>\n",
       "      <th>WORK_ORDER_NAME</th>\n",
       "      <th>NUMBER_OF_EDITS</th>\n",
       "      <th>POSTING_START</th>\n",
       "      <th>duration</th>\n",
       "      <th>dur_per_edit</th>\n",
       "    </tr>\n",
       "  </thead>\n",
       "  <tbody>\n",
       "  </tbody>\n",
       "</table>\n",
       "</div>"
      ],
      "text/plain": [
       "Empty DataFrame\n",
       "Columns: [PROCESS, WORK_ORDER_NAME, NUMBER_OF_EDITS, POSTING_START, duration, dur_per_edit]\n",
       "Index: []"
      ]
     },
     "execution_count": 20,
     "metadata": {},
     "output_type": "execute_result"
    }
   ],
   "source": [
    "NE[NE['duration']>300]"
   ]
  },
  {
   "cell_type": "code",
   "execution_count": 21,
   "metadata": {},
   "outputs": [
    {
     "name": "stderr",
     "output_type": "stream",
     "text": [
      "/Users/jennetta/Library/Python/3.7/lib/python/site-packages/pandas/core/frame.py:3997: SettingWithCopyWarning: \n",
      "A value is trying to be set on a copy of a slice from a DataFrame\n",
      "\n",
      "See the caveats in the documentation: https://pandas.pydata.org/pandas-docs/stable/user_guide/indexing.html#returning-a-view-versus-a-copy\n",
      "  errors=errors,\n"
     ]
    }
   ],
   "source": [
    "SDE.drop(1528,inplace=True)\n",
    "SDE.drop(3836,inplace=True)\n",
    "SDE.drop(7348,inplace=True)"
   ]
  },
  {
   "cell_type": "code",
   "execution_count": 22,
   "metadata": {},
   "outputs": [],
   "source": [
    "SDE_time = (SDE.dur_per_edit.mean() )\n",
    "NE_time = (NE.dur_per_edit.mean() )"
   ]
  },
  {
   "cell_type": "code",
   "execution_count": 23,
   "metadata": {},
   "outputs": [
    {
     "data": {
      "text/plain": [
       "array([[<matplotlib.axes._subplots.AxesSubplot object at 0x10dfbdc18>]],\n",
       "      dtype=object)"
      ]
     },
     "execution_count": 23,
     "metadata": {},
     "output_type": "execute_result"
    },
    {
     "data": {
      "image/png": "[encoded data removed]",
      "text/plain": [
       "<Figure size 432x288 with 1 Axes>"
      ]
     },
     "metadata": {
      "needs_background": "light"
     },
     "output_type": "display_data"
    }
   ],
   "source": [
    "df.hist('NUMBER_OF_EDITS',bins=30)"
   ]
  },
  {
   "cell_type": "code",
   "execution_count": 24,
   "metadata": {},
   "outputs": [],
   "source": [
    "import matplotlib.pyplot as plt"
   ]
  },
  {
   "cell_type": "code",
   "execution_count": 25,
   "metadata": {},
   "outputs": [
    {
     "data": {
      "text/plain": [
       "'\\n100 447 \\n250 291 \\n500 280 \\n750 176 \\n1000 127 \\n1500 141 \\n2000 68\\n2500 35\\n5000 87\\n7500 37\\n10000 25\\n15000 22\\n20000 9\\n\\nin 1 day\\n\\n0.08455822729879554 SDE \\n0.40973213236668404 NE\\n'"
      ]
     },
     "execution_count": 25,
     "metadata": {},
     "output_type": "execute_result"
    }
   ],
   "source": [
    "'''\n",
    "100 447 \n",
    "250 291 \n",
    "500 280 \n",
    "750 176 \n",
    "1000 127 \n",
    "1500 141 \n",
    "2000 68\n",
    "2500 35\n",
    "5000 87\n",
    "7500 37\n",
    "10000 25\n",
    "15000 22\n",
    "20000 9\n",
    "'''"
   ]
  },
  {
   "cell_type": "code",
   "execution_count": 26,
   "metadata": {},
   "outputs": [
    {
     "data": {
      "text/plain": [
       "2423950"
      ]
     },
     "execution_count": 26,
     "metadata": {},
     "output_type": "execute_result"
    }
   ],
   "source": [
    "num_edits_per_day = 100*447 +250*291 +500*280 +750*176 +1000*127+1500*141+2000*68+2500*35+5000*87+7500*37+10000*25+15000*22+20000*9\n",
    "num_edits_per_day\n",
    "# 2.42 mill edits / day"
   ]
  },
  {
   "cell_type": "code",
   "execution_count": 27,
   "metadata": {},
   "outputs": [],
   "source": [
    "tot_time = num_edits_per_day/2*SDE_time + num_edits_per_day/2*NE_time"
   ]
  },
  {
   "cell_type": "code",
   "execution_count": 28,
   "metadata": {},
   "outputs": [
    {
     "data": {
      "text/plain": [
       "2.1580879329002194"
      ]
     },
     "execution_count": 28,
     "metadata": {},
     "output_type": "execute_result"
    }
   ],
   "source": [
    "#600,000 sec\n",
    "tot_time / 61200"
   ]
  },
  {
   "cell_type": "code",
   "execution_count": 29,
   "metadata": {},
   "outputs": [
    {
     "data": {
      "text/html": [
       "<div>\n",
       "<style scoped>\n",
       "    .dataframe tbody tr th:only-of-type {\n",
       "        vertical-align: middle;\n",
       "    }\n",
       "\n",
       "    .dataframe tbody tr th {\n",
       "        vertical-align: top;\n",
       "    }\n",
       "\n",
       "    .dataframe thead th {\n",
       "        text-align: right;\n",
       "    }\n",
       "</style>\n",
       "<table border=\"1\" class=\"dataframe\">\n",
       "  <thead>\n",
       "    <tr style=\"text-align: right;\">\n",
       "      <th></th>\n",
       "      <th>PROCESS</th>\n",
       "      <th>WORK_ORDER_NAME</th>\n",
       "      <th>NUMBER_OF_EDITS</th>\n",
       "      <th>POSTING_START</th>\n",
       "      <th>duration</th>\n",
       "      <th>dur_per_edit</th>\n",
       "    </tr>\n",
       "  </thead>\n",
       "  <tbody>\n",
       "    <tr>\n",
       "      <th>8413</th>\n",
       "      <td>SDE</td>\n",
       "      <td>SDE.53541</td>\n",
       "      <td>445.0</td>\n",
       "      <td>2020-03-29 00:59:00</td>\n",
       "      <td>3655.0</td>\n",
       "      <td>8.213483</td>\n",
       "    </tr>\n",
       "  </tbody>\n",
       "</table>\n",
       "</div>"
      ],
      "text/plain": [
       "     PROCESS WORK_ORDER_NAME  NUMBER_OF_EDITS       POSTING_START  duration  \\\n",
       "8413     SDE       SDE.53541            445.0 2020-03-29 00:59:00    3655.0   \n",
       "\n",
       "      dur_per_edit  \n",
       "8413      8.213483  "
      ]
     },
     "execution_count": 29,
     "metadata": {},
     "output_type": "execute_result"
    }
   ],
   "source": [
    "SDE[SDE['WORK_ORDER_NAME']=='SDE.53541']"
   ]
  },
  {
   "cell_type": "code",
   "execution_count": 30,
   "metadata": {},
   "outputs": [
    {
     "data": {
      "text/plain": [
       "0.07786554383018877"
      ]
     },
     "execution_count": 30,
     "metadata": {},
     "output_type": "execute_result"
    }
   ],
   "source": [
    "SDE_time"
   ]
  },
  {
   "cell_type": "code",
   "execution_count": 31,
   "metadata": {},
   "outputs": [
    {
     "data": {
      "text/plain": [
       "0.031109461011902394"
      ]
     },
     "execution_count": 31,
     "metadata": {},
     "output_type": "execute_result"
    }
   ],
   "source": [
    "NE_time"
   ]
  },
  {
   "cell_type": "code",
   "execution_count": 32,
   "metadata": {},
   "outputs": [
    {
     "data": {
      "text/html": [
       "<div>\n",
       "<style scoped>\n",
       "    .dataframe tbody tr th:only-of-type {\n",
       "        vertical-align: middle;\n",
       "    }\n",
       "\n",
       "    .dataframe tbody tr th {\n",
       "        vertical-align: top;\n",
       "    }\n",
       "\n",
       "    .dataframe thead th {\n",
       "        text-align: right;\n",
       "    }\n",
       "</style>\n",
       "<table border=\"1\" class=\"dataframe\">\n",
       "  <thead>\n",
       "    <tr style=\"text-align: right;\">\n",
       "      <th></th>\n",
       "      <th>PROCESS</th>\n",
       "      <th>WORK_ORDER_NAME</th>\n",
       "      <th>NUMBER_OF_EDITS</th>\n",
       "      <th>POSTING_START</th>\n",
       "      <th>duration</th>\n",
       "      <th>dur_per_edit</th>\n",
       "    </tr>\n",
       "  </thead>\n",
       "  <tbody>\n",
       "    <tr>\n",
       "      <th>24</th>\n",
       "      <td>NE</td>\n",
       "      <td>NE.DB-24</td>\n",
       "      <td>4164.0</td>\n",
       "      <td>2020-03-30 23:56:00</td>\n",
       "      <td>141.0</td>\n",
       "      <td>0.033862</td>\n",
       "    </tr>\n",
       "  </tbody>\n",
       "</table>\n",
       "</div>"
      ],
      "text/plain": [
       "   PROCESS WORK_ORDER_NAME  NUMBER_OF_EDITS       POSTING_START  duration  \\\n",
       "24      NE        NE.DB-24           4164.0 2020-03-30 23:56:00     141.0   \n",
       "\n",
       "    dur_per_edit  \n",
       "24      0.033862  "
      ]
     },
     "execution_count": 32,
     "metadata": {},
     "output_type": "execute_result"
    }
   ],
   "source": [
    "NE[NE.duration == NE.duration.max()]"
   ]
  },
  {
   "cell_type": "code",
   "execution_count": 33,
   "metadata": {},
   "outputs": [
    {
     "data": {
      "text/plain": [
       "<bound method NDFrame.describe of 0      0.230769\n",
       "1      0.302326\n",
       "6      0.054140\n",
       "7      0.057325\n",
       "8      0.001587\n",
       "         ...   \n",
       "115    0.006704\n",
       "116         NaN\n",
       "117    0.019231\n",
       "118    0.041026\n",
       "119    0.051282\n",
       "Name: dur_per_edit, Length: 116, dtype: float64>"
      ]
     },
     "execution_count": 33,
     "metadata": {},
     "output_type": "execute_result"
    }
   ],
   "source": [
    "NE.dur_per_edit.describe"
   ]
  },
  {
   "cell_type": "code",
   "execution_count": 35,
   "metadata": {},
   "outputs": [
    {
     "data": {
      "text/plain": [
       "<matplotlib.axes._subplots.AxesSubplot at 0x10f1cf128>"
      ]
     },
     "execution_count": 35,
     "metadata": {},
     "output_type": "execute_result"
    },
    {
     "data": {
      "image/png": "[encoded data removed]",
      "text/plain": [
       "<Figure size 432x288 with 1 Axes>"
      ]
     },
     "metadata": {
      "needs_background": "light"
     },
     "output_type": "display_data"
    }
   ],
   "source": [
    "NE.boxplot('dur_per_edit')"
   ]
  },
  {
   "cell_type": "code",
   "execution_count": 163,
   "metadata": {},
   "outputs": [
    {
     "data": {
      "text/html": [
       "<div>\n",
       "<style scoped>\n",
       "    .dataframe tbody tr th:only-of-type {\n",
       "        vertical-align: middle;\n",
       "    }\n",
       "\n",
       "    .dataframe tbody tr th {\n",
       "        vertical-align: top;\n",
       "    }\n",
       "\n",
       "    .dataframe thead th {\n",
       "        text-align: right;\n",
       "    }\n",
       "</style>\n",
       "<table border=\"1\" class=\"dataframe\">\n",
       "  <thead>\n",
       "    <tr style=\"text-align: right;\">\n",
       "      <th></th>\n",
       "      <th>PROCESS</th>\n",
       "      <th>WORK_ORDER_NAME</th>\n",
       "      <th>NUMBER_OF_EDITS</th>\n",
       "      <th>POSTING_START</th>\n",
       "      <th>duration</th>\n",
       "      <th>dur_per_edit</th>\n",
       "    </tr>\n",
       "  </thead>\n",
       "  <tbody>\n",
       "    <tr>\n",
       "      <th>0</th>\n",
       "      <td>NE</td>\n",
       "      <td>NE.0326_0001</td>\n",
       "      <td>39.0</td>\n",
       "      <td>2020-03-28 09:00:00</td>\n",
       "      <td>9.0</td>\n",
       "      <td>0.230769</td>\n",
       "    </tr>\n",
       "    <tr>\n",
       "      <th>1</th>\n",
       "      <td>NE</td>\n",
       "      <td>NE.0327_001</td>\n",
       "      <td>129.0</td>\n",
       "      <td>2020-03-29 19:59:00</td>\n",
       "      <td>39.0</td>\n",
       "      <td>0.302326</td>\n",
       "    </tr>\n",
       "    <tr>\n",
       "      <th>6</th>\n",
       "      <td>NE</td>\n",
       "      <td>NE.DB-1</td>\n",
       "      <td>1256.0</td>\n",
       "      <td>2020-03-31 00:06:00</td>\n",
       "      <td>68.0</td>\n",
       "      <td>0.054140</td>\n",
       "    </tr>\n",
       "    <tr>\n",
       "      <th>7</th>\n",
       "      <td>NE</td>\n",
       "      <td>NE.DB-10</td>\n",
       "      <td>1256.0</td>\n",
       "      <td>2020-03-26 23:46:00</td>\n",
       "      <td>72.0</td>\n",
       "      <td>0.057325</td>\n",
       "    </tr>\n",
       "    <tr>\n",
       "      <th>8</th>\n",
       "      <td>NE</td>\n",
       "      <td>NE.DB-10</td>\n",
       "      <td>1260.0</td>\n",
       "      <td>2020-03-30 17:05:00</td>\n",
       "      <td>2.0</td>\n",
       "      <td>0.001587</td>\n",
       "    </tr>\n",
       "  </tbody>\n",
       "</table>\n",
       "</div>"
      ],
      "text/plain": [
       "  PROCESS WORK_ORDER_NAME  NUMBER_OF_EDITS       POSTING_START  duration  \\\n",
       "0      NE    NE.0326_0001             39.0 2020-03-28 09:00:00       9.0   \n",
       "1      NE     NE.0327_001            129.0 2020-03-29 19:59:00      39.0   \n",
       "6      NE         NE.DB-1           1256.0 2020-03-31 00:06:00      68.0   \n",
       "7      NE        NE.DB-10           1256.0 2020-03-26 23:46:00      72.0   \n",
       "8      NE        NE.DB-10           1260.0 2020-03-30 17:05:00       2.0   \n",
       "\n",
       "   dur_per_edit  \n",
       "0      0.230769  \n",
       "1      0.302326  \n",
       "6      0.054140  \n",
       "7      0.057325  \n",
       "8      0.001587  "
      ]
     },
     "execution_count": 163,
     "metadata": {},
     "output_type": "execute_result"
    }
   ],
   "source": [
    "#bins are in 500s\n",
    "#collect all postings in bin x\n",
    "# find the avg duration per posting for bin x\n",
    "#do weighted sum \n",
    "\n",
    "#0-500,500-1000,1000-2000,2000-5000,>5000\n",
    "NE.head()"
   ]
  },
  {
   "cell_type": "code",
   "execution_count": 86,
   "metadata": {},
   "outputs": [],
   "source": [
    "NE500 = NE[NE.NUMBER_OF_EDITS < 500]\n",
    "NE500to1000 = NE[(NE.NUMBER_OF_EDITS > 500) & (NE.NUMBER_OF_EDITS < 1000) ]\n",
    "NE1000to2000 = NE[(NE.NUMBER_OF_EDITS > 1000) & (NE.NUMBER_OF_EDITS < 2000) ]\n",
    "NE2000to5000 = NE[(NE.NUMBER_OF_EDITS > 2000) & (NE.NUMBER_OF_EDITS < 5000) ]\n",
    "NE5000abv = NE[(NE.NUMBER_OF_EDITS > 5000)  ]\n",
    "\n",
    "SDE500 = SDE[SDE.NUMBER_OF_EDITS < 500]\n",
    "SDE500to1000 = SDE[(SDE.NUMBER_OF_EDITS > 500) & (SDE.NUMBER_OF_EDITS < 1000) ]\n",
    "SDE1000to2000 = SDE[(SDE.NUMBER_OF_EDITS > 1000) & (SDE.NUMBER_OF_EDITS < 2000) ]\n",
    "SDE2000to5000 = SDE[(SDE.NUMBER_OF_EDITS > 2000) & (SDE.NUMBER_OF_EDITS < 5000) ]\n",
    "SDE5000abv = SDE[(SDE.NUMBER_OF_EDITS > 5000) ]"
   ]
  },
  {
   "cell_type": "code",
   "execution_count": 87,
   "metadata": {},
   "outputs": [],
   "source": [
    "NE500mean = NE500.duration.mean()\n",
    "NE500to1000mean = NE500to1000.duration.mean()\n",
    "NE1000to2000mean = NE1000to2000.duration.mean()\n",
    "NE2000to5000mean = NE2000to5000.duration.mean()\n",
    "NE5000abvmean = NE5000abv.duration.mean()"
   ]
  },
  {
   "cell_type": "code",
   "execution_count": 88,
   "metadata": {},
   "outputs": [],
   "source": [
    "SDE500mean = SDE500.duration.mean()\n",
    "SDE500to1000mean = SDE500to1000.duration.mean()\n",
    "SDE1000to2000mean = SDE1000to2000.duration.mean()\n",
    "SDE2000to5000mean = SDE2000to5000.duration.mean()\n",
    "SDE5000abvmean = SDE5000abv.duration.mean()"
   ]
  },
  {
   "cell_type": "code",
   "execution_count": 83,
   "metadata": {},
   "outputs": [],
   "source": [
    "x500 = (447 +291 +280) /2\n",
    "x500to1000 = (176 +127) /2\n",
    "x1000to2000 = (141 +68)/2\n",
    "x2000to5000 = (35+87)/2\n",
    "x5000abv = (37+25+22+9)/2\n"
   ]
  },
  {
   "cell_type": "code",
   "execution_count": 166,
   "metadata": {},
   "outputs": [],
   "source": [
    "total = x500*NE500mean + x500to1000*NE500to1000mean + x1000to2000*NE1000to2000mean + x2000to5000*NE2000to5000mean +  x5000abv*NE5000abvmean + x500*SDE500mean + x500to1000*SDE500to1000mean + x1000to2000*SDE1000to2000mean + x2000to5000*SDE2000to5000mean  \n"
   ]
  },
  {
   "cell_type": "code",
   "execution_count": 120,
   "metadata": {},
   "outputs": [],
   "source": [
    "per = total / 61200"
   ]
  },
  {
   "cell_type": "code",
   "execution_count": 121,
   "metadata": {},
   "outputs": [],
   "source": [
    "# I can fit 25% more\n",
    "\n",
    "rem500 = (447 +291 +280) / per \n",
    "rem500to1000 = (176 +127) / per\n",
    "rem1000to2000 = (141 +68) / per\n",
    "rem2000to5000 = (35+87) / per\n",
    "rem5000abv = (37+25+22+9)/ per\n",
    "\n"
   ]
  },
  {
   "cell_type": "code",
   "execution_count": 122,
   "metadata": {},
   "outputs": [
    {
     "name": "stdout",
     "output_type": "stream",
     "text": [
      "We can include:\n",
      "1307.0 posts with < 500 edits\n",
      "389.0 posts with 500 < 1000 edits\n",
      "268.0 posts with 1000 < 2000 edits\n",
      "157.0 posts with 2000 < 5000 edits\n",
      "119.0 posts with >5000 edits\n"
     ]
    }
   ],
   "source": [
    "print('We can include:')\n",
    "print(round(rem500+x500*2), 'posts with < 500 edits')\n",
    "print(round(rem500to1000+x500to1000*2), 'posts with 500 < 1000 edits')\n",
    "print(round(rem1000to2000+x1000to2000*2), 'posts with 1000 < 2000 edits')\n",
    "print(round(rem2000to5000+x2000to5000*2), 'posts with 2000 < 5000 edits')\n",
    "print(round(rem5000abv+x5000abv*2), 'posts with >5000 edits')"
   ]
  },
  {
   "cell_type": "code",
   "execution_count": 123,
   "metadata": {},
   "outputs": [],
   "source": [
    "total = (rem500+x500*2)*NE500mean + (rem500to1000+x500to1000*2)*NE500to1000mean + (rem1000to2000+x1000to2000*2)*NE1000to2000mean + (rem2000to5000+x2000to5000*2)*NE2000to5000mean + (rem5000abv+x5000abv*2)*NE5000abvmean + (rem500+x500*2)*SDE500mean + (rem500to1000+x500to1000*2)*SDE500to1000mean + (rem1000to2000+x1000to2000*2)*SDE1000to2000mean + (rem2000to5000+x2000to5000*2)*SDE2000to5000mean  \n"
   ]
  },
  {
   "cell_type": "code",
   "execution_count": 124,
   "metadata": {},
   "outputs": [
    {
     "data": {
      "text/plain": [
       "0.9694821401208003"
      ]
     },
     "execution_count": 124,
     "metadata": {},
     "output_type": "execute_result"
    }
   ],
   "source": [
    "total/(2*61200)"
   ]
  },
  {
   "cell_type": "code",
   "execution_count": 125,
   "metadata": {},
   "outputs": [],
   "source": [
    "new = [round(rem500+x500*2),\n",
    "round(rem500to1000+x500to1000*2),\n",
    "round(rem1000to2000+x1000to2000*2),\n",
    "round(rem2000to5000+x2000to5000*2),\n",
    "round(rem5000abv+x5000abv*2)]"
   ]
  },
  {
   "cell_type": "code",
   "execution_count": 126,
   "metadata": {},
   "outputs": [],
   "source": [
    "old = [x500,\n",
    "x500to1000,\n",
    "x1000to2000,\n",
    "x2000to5000,\n",
    "x5000abv]"
   ]
  },
  {
   "cell_type": "code",
   "execution_count": 127,
   "metadata": {},
   "outputs": [],
   "source": [
    "old = [x*2 for x in old]"
   ]
  },
  {
   "cell_type": "code",
   "execution_count": 135,
   "metadata": {},
   "outputs": [
    {
     "data": {
      "text/plain": [
       "<matplotlib.legend.Legend at 0x11b9080f0>"
      ]
     },
     "execution_count": 135,
     "metadata": {},
     "output_type": "execute_result"
    },
    {
     "data": {
      "image/png": "[encoded data removed]",
      "text/plain": [
       "<Figure size 432x288 with 1 Axes>"
      ]
     },
     "metadata": {
      "needs_background": "light"
     },
     "output_type": "display_data"
    }
   ],
   "source": [
    "plt.plot(old,label='original data')\n",
    "plt.plot(new, label='projected data')\n",
    "plt.ylabel('posts')\n",
    "plt.xlabel('bins')\n",
    "plt.title('Number of posts by edit')\n",
    "plt.legend()"
   ]
  },
  {
   "cell_type": "code",
   "execution_count": 144,
   "metadata": {},
   "outputs": [],
   "source": [
    "SDE29 = SDE[(SDE['POSTING_START']>='2020-03-29') & (SDE['POSTING_START']<'2020-03-30')]"
   ]
  },
  {
   "cell_type": "code",
   "execution_count": 146,
   "metadata": {},
   "outputs": [
    {
     "data": {
      "text/html": [
       "<div>\n",
       "<style scoped>\n",
       "    .dataframe tbody tr th:only-of-type {\n",
       "        vertical-align: middle;\n",
       "    }\n",
       "\n",
       "    .dataframe tbody tr th {\n",
       "        vertical-align: top;\n",
       "    }\n",
       "\n",
       "    .dataframe thead th {\n",
       "        text-align: right;\n",
       "    }\n",
       "</style>\n",
       "<table border=\"1\" class=\"dataframe\">\n",
       "  <thead>\n",
       "    <tr style=\"text-align: right;\">\n",
       "      <th></th>\n",
       "      <th>PROCESS</th>\n",
       "      <th>WORK_ORDER_NAME</th>\n",
       "      <th>NUMBER_OF_EDITS</th>\n",
       "      <th>POSTING_START</th>\n",
       "      <th>duration</th>\n",
       "      <th>dur_per_edit</th>\n",
       "    </tr>\n",
       "  </thead>\n",
       "  <tbody>\n",
       "    <tr>\n",
       "      <th>4405</th>\n",
       "      <td>SDE</td>\n",
       "      <td>SDE.50700</td>\n",
       "      <td>100.0</td>\n",
       "      <td>2020-03-29 00:00:00</td>\n",
       "      <td>74.0</td>\n",
       "      <td>0.740000</td>\n",
       "    </tr>\n",
       "    <tr>\n",
       "      <th>10134</th>\n",
       "      <td>SDE</td>\n",
       "      <td>SDE.54754</td>\n",
       "      <td>247.0</td>\n",
       "      <td>2020-03-29 00:02:00</td>\n",
       "      <td>68.0</td>\n",
       "      <td>0.275304</td>\n",
       "    </tr>\n",
       "    <tr>\n",
       "      <th>11251</th>\n",
       "      <td>SDE</td>\n",
       "      <td>SDE.55711</td>\n",
       "      <td>318.0</td>\n",
       "      <td>2020-03-29 00:03:00</td>\n",
       "      <td>76.0</td>\n",
       "      <td>0.238994</td>\n",
       "    </tr>\n",
       "    <tr>\n",
       "      <th>3692</th>\n",
       "      <td>SDE</td>\n",
       "      <td>SDE.50168</td>\n",
       "      <td>377.0</td>\n",
       "      <td>2020-03-29 00:04:00</td>\n",
       "      <td>75.0</td>\n",
       "      <td>0.198939</td>\n",
       "    </tr>\n",
       "    <tr>\n",
       "      <th>10023</th>\n",
       "      <td>SDE</td>\n",
       "      <td>SDE.54674</td>\n",
       "      <td>410.0</td>\n",
       "      <td>2020-03-29 00:05:00</td>\n",
       "      <td>75.0</td>\n",
       "      <td>0.182927</td>\n",
       "    </tr>\n",
       "    <tr>\n",
       "      <th>...</th>\n",
       "      <td>...</td>\n",
       "      <td>...</td>\n",
       "      <td>...</td>\n",
       "      <td>...</td>\n",
       "      <td>...</td>\n",
       "      <td>...</td>\n",
       "    </tr>\n",
       "    <tr>\n",
       "      <th>2065</th>\n",
       "      <td>SDE</td>\n",
       "      <td>SDE.20550</td>\n",
       "      <td>1999.0</td>\n",
       "      <td>2020-03-29 23:56:00</td>\n",
       "      <td>51.0</td>\n",
       "      <td>0.025513</td>\n",
       "    </tr>\n",
       "    <tr>\n",
       "      <th>2169</th>\n",
       "      <td>SDE</td>\n",
       "      <td>SDE.21466</td>\n",
       "      <td>1475.0</td>\n",
       "      <td>2020-03-29 23:57:00</td>\n",
       "      <td>48.0</td>\n",
       "      <td>0.032542</td>\n",
       "    </tr>\n",
       "    <tr>\n",
       "      <th>2735</th>\n",
       "      <td>SDE</td>\n",
       "      <td>SDE.21941</td>\n",
       "      <td>2199.0</td>\n",
       "      <td>2020-03-29 23:58:00</td>\n",
       "      <td>53.0</td>\n",
       "      <td>0.024102</td>\n",
       "    </tr>\n",
       "    <tr>\n",
       "      <th>2432</th>\n",
       "      <td>SDE</td>\n",
       "      <td>SDE.21707</td>\n",
       "      <td>226.0</td>\n",
       "      <td>2020-03-29 23:59:00</td>\n",
       "      <td>43.0</td>\n",
       "      <td>0.190265</td>\n",
       "    </tr>\n",
       "    <tr>\n",
       "      <th>2513</th>\n",
       "      <td>SDE</td>\n",
       "      <td>SDE.21784</td>\n",
       "      <td>1608.0</td>\n",
       "      <td>2020-03-29 23:59:00</td>\n",
       "      <td>51.0</td>\n",
       "      <td>0.031716</td>\n",
       "    </tr>\n",
       "  </tbody>\n",
       "</table>\n",
       "<p>3180 rows × 6 columns</p>\n",
       "</div>"
      ],
      "text/plain": [
       "      PROCESS WORK_ORDER_NAME  NUMBER_OF_EDITS       POSTING_START  duration  \\\n",
       "4405      SDE       SDE.50700            100.0 2020-03-29 00:00:00      74.0   \n",
       "10134     SDE       SDE.54754            247.0 2020-03-29 00:02:00      68.0   \n",
       "11251     SDE       SDE.55711            318.0 2020-03-29 00:03:00      76.0   \n",
       "3692      SDE       SDE.50168            377.0 2020-03-29 00:04:00      75.0   \n",
       "10023     SDE       SDE.54674            410.0 2020-03-29 00:05:00      75.0   \n",
       "...       ...             ...              ...                 ...       ...   \n",
       "2065      SDE       SDE.20550           1999.0 2020-03-29 23:56:00      51.0   \n",
       "2169      SDE       SDE.21466           1475.0 2020-03-29 23:57:00      48.0   \n",
       "2735      SDE       SDE.21941           2199.0 2020-03-29 23:58:00      53.0   \n",
       "2432      SDE       SDE.21707            226.0 2020-03-29 23:59:00      43.0   \n",
       "2513      SDE       SDE.21784           1608.0 2020-03-29 23:59:00      51.0   \n",
       "\n",
       "       dur_per_edit  \n",
       "4405       0.740000  \n",
       "10134      0.275304  \n",
       "11251      0.238994  \n",
       "3692       0.198939  \n",
       "10023      0.182927  \n",
       "...             ...  \n",
       "2065       0.025513  \n",
       "2169       0.032542  \n",
       "2735       0.024102  \n",
       "2432       0.190265  \n",
       "2513       0.031716  \n",
       "\n",
       "[3180 rows x 6 columns]"
      ]
     },
     "execution_count": 146,
     "metadata": {},
     "output_type": "execute_result"
    }
   ],
   "source": [
    "SDE29.sort_values('POSTING_START')"
   ]
  },
  {
   "cell_type": "code",
   "execution_count": 147,
   "metadata": {},
   "outputs": [
    {
     "data": {
      "text/plain": [
       "array([[<matplotlib.axes._subplots.AxesSubplot object at 0x11bda0588>]],\n",
       "      dtype=object)"
      ]
     },
     "execution_count": 147,
     "metadata": {},
     "output_type": "execute_result"
    },
    {
     "data": {
      "image/png": "[encoded data removed]",
      "text/plain": [
       "<Figure size 432x288 with 1 Axes>"
      ]
     },
     "metadata": {
      "needs_background": "light"
     },
     "output_type": "display_data"
    }
   ],
   "source": [
    "SDE29.hist('NUMBER_OF_EDITS')\n"
   ]
  },
  {
   "cell_type": "code",
   "execution_count": 149,
   "metadata": {},
   "outputs": [],
   "source": [
    "def cat(val):\n",
    "    if val < 500:\n",
    "        return 500\n",
    "    elif val < 1000 and val > 500:\n",
    "        return 1000\n",
    "    elif val < 2000 and val > 1000:\n",
    "        return 2000\n",
    "    elif val < 5000 and val > 2000:\n",
    "        return 5000\n",
    "    else:\n",
    "        return 10000"
   ]
  },
  {
   "cell_type": "code",
   "execution_count": 150,
   "metadata": {},
   "outputs": [
    {
     "name": "stderr",
     "output_type": "stream",
     "text": [
      "/Users/jennetta/Library/Python/3.7/lib/python/site-packages/ipykernel_launcher.py:1: SettingWithCopyWarning: \n",
      "A value is trying to be set on a copy of a slice from a DataFrame.\n",
      "Try using .loc[row_indexer,col_indexer] = value instead\n",
      "\n",
      "See the caveats in the documentation: https://pandas.pydata.org/pandas-docs/stable/user_guide/indexing.html#returning-a-view-versus-a-copy\n",
      "  \"\"\"Entry point for launching an IPython kernel.\n"
     ]
    }
   ],
   "source": [
    "SDE29['Group'] = SDE29.NUMBER_OF_EDITS.apply(cat)"
   ]
  },
  {
   "cell_type": "code",
   "execution_count": 151,
   "metadata": {},
   "outputs": [
    {
     "data": {
      "text/html": [
       "<div>\n",
       "<style scoped>\n",
       "    .dataframe tbody tr th:only-of-type {\n",
       "        vertical-align: middle;\n",
       "    }\n",
       "\n",
       "    .dataframe tbody tr th {\n",
       "        vertical-align: top;\n",
       "    }\n",
       "\n",
       "    .dataframe thead th {\n",
       "        text-align: right;\n",
       "    }\n",
       "</style>\n",
       "<table border=\"1\" class=\"dataframe\">\n",
       "  <thead>\n",
       "    <tr style=\"text-align: right;\">\n",
       "      <th></th>\n",
       "      <th>PROCESS</th>\n",
       "      <th>WORK_ORDER_NAME</th>\n",
       "      <th>NUMBER_OF_EDITS</th>\n",
       "      <th>POSTING_START</th>\n",
       "      <th>duration</th>\n",
       "      <th>dur_per_edit</th>\n",
       "      <th>Group</th>\n",
       "    </tr>\n",
       "  </thead>\n",
       "  <tbody>\n",
       "    <tr>\n",
       "      <th>122</th>\n",
       "      <td>SDE</td>\n",
       "      <td>SDE.13484</td>\n",
       "      <td>750.0</td>\n",
       "      <td>2020-03-29 03:00:00</td>\n",
       "      <td>62.0</td>\n",
       "      <td>0.082667</td>\n",
       "      <td>1000</td>\n",
       "    </tr>\n",
       "    <tr>\n",
       "      <th>123</th>\n",
       "      <td>SDE</td>\n",
       "      <td>SDE.13486</td>\n",
       "      <td>623.0</td>\n",
       "      <td>2020-03-29 03:01:00</td>\n",
       "      <td>61.0</td>\n",
       "      <td>0.097913</td>\n",
       "      <td>1000</td>\n",
       "    </tr>\n",
       "    <tr>\n",
       "      <th>124</th>\n",
       "      <td>SDE</td>\n",
       "      <td>SDE.13487</td>\n",
       "      <td>956.0</td>\n",
       "      <td>2020-03-29 04:02:00</td>\n",
       "      <td>64.0</td>\n",
       "      <td>0.066946</td>\n",
       "      <td>1000</td>\n",
       "    </tr>\n",
       "    <tr>\n",
       "      <th>125</th>\n",
       "      <td>SDE</td>\n",
       "      <td>SDE.13489</td>\n",
       "      <td>2089.0</td>\n",
       "      <td>2020-03-29 03:31:00</td>\n",
       "      <td>66.0</td>\n",
       "      <td>0.031594</td>\n",
       "      <td>5000</td>\n",
       "    </tr>\n",
       "    <tr>\n",
       "      <th>126</th>\n",
       "      <td>SDE</td>\n",
       "      <td>SDE.13490</td>\n",
       "      <td>1841.0</td>\n",
       "      <td>2020-03-29 03:17:00</td>\n",
       "      <td>64.0</td>\n",
       "      <td>0.034764</td>\n",
       "      <td>2000</td>\n",
       "    </tr>\n",
       "    <tr>\n",
       "      <th>...</th>\n",
       "      <td>...</td>\n",
       "      <td>...</td>\n",
       "      <td>...</td>\n",
       "      <td>...</td>\n",
       "      <td>...</td>\n",
       "      <td>...</td>\n",
       "      <td>...</td>\n",
       "    </tr>\n",
       "    <tr>\n",
       "      <th>12040</th>\n",
       "      <td>SDE</td>\n",
       "      <td>SDE.56629</td>\n",
       "      <td>66.0</td>\n",
       "      <td>2020-03-29 15:18:00</td>\n",
       "      <td>13.0</td>\n",
       "      <td>0.196970</td>\n",
       "      <td>500</td>\n",
       "    </tr>\n",
       "    <tr>\n",
       "      <th>12041</th>\n",
       "      <td>SDE</td>\n",
       "      <td>SDE.56630</td>\n",
       "      <td>40.0</td>\n",
       "      <td>2020-03-29 15:21:00</td>\n",
       "      <td>13.0</td>\n",
       "      <td>0.325000</td>\n",
       "      <td>500</td>\n",
       "    </tr>\n",
       "    <tr>\n",
       "      <th>12042</th>\n",
       "      <td>SDE</td>\n",
       "      <td>SDE.56631</td>\n",
       "      <td>140.0</td>\n",
       "      <td>2020-03-29 15:20:00</td>\n",
       "      <td>14.0</td>\n",
       "      <td>0.100000</td>\n",
       "      <td>500</td>\n",
       "    </tr>\n",
       "    <tr>\n",
       "      <th>12044</th>\n",
       "      <td>SDE</td>\n",
       "      <td>SDE.56634</td>\n",
       "      <td>84.0</td>\n",
       "      <td>2020-03-29 13:54:00</td>\n",
       "      <td>26.0</td>\n",
       "      <td>0.309524</td>\n",
       "      <td>500</td>\n",
       "    </tr>\n",
       "    <tr>\n",
       "      <th>12313</th>\n",
       "      <td>SDE</td>\n",
       "      <td>SDE.66085</td>\n",
       "      <td>20.0</td>\n",
       "      <td>2020-03-29 19:31:00</td>\n",
       "      <td>12.0</td>\n",
       "      <td>0.600000</td>\n",
       "      <td>500</td>\n",
       "    </tr>\n",
       "  </tbody>\n",
       "</table>\n",
       "<p>3180 rows × 7 columns</p>\n",
       "</div>"
      ],
      "text/plain": [
       "      PROCESS WORK_ORDER_NAME  NUMBER_OF_EDITS       POSTING_START  duration  \\\n",
       "122       SDE       SDE.13484            750.0 2020-03-29 03:00:00      62.0   \n",
       "123       SDE       SDE.13486            623.0 2020-03-29 03:01:00      61.0   \n",
       "124       SDE       SDE.13487            956.0 2020-03-29 04:02:00      64.0   \n",
       "125       SDE       SDE.13489           2089.0 2020-03-29 03:31:00      66.0   \n",
       "126       SDE       SDE.13490           1841.0 2020-03-29 03:17:00      64.0   \n",
       "...       ...             ...              ...                 ...       ...   \n",
       "12040     SDE       SDE.56629             66.0 2020-03-29 15:18:00      13.0   \n",
       "12041     SDE       SDE.56630             40.0 2020-03-29 15:21:00      13.0   \n",
       "12042     SDE       SDE.56631            140.0 2020-03-29 15:20:00      14.0   \n",
       "12044     SDE       SDE.56634             84.0 2020-03-29 13:54:00      26.0   \n",
       "12313     SDE       SDE.66085             20.0 2020-03-29 19:31:00      12.0   \n",
       "\n",
       "       dur_per_edit  Group  \n",
       "122        0.082667   1000  \n",
       "123        0.097913   1000  \n",
       "124        0.066946   1000  \n",
       "125        0.031594   5000  \n",
       "126        0.034764   2000  \n",
       "...             ...    ...  \n",
       "12040      0.196970    500  \n",
       "12041      0.325000    500  \n",
       "12042      0.100000    500  \n",
       "12044      0.309524    500  \n",
       "12313      0.600000    500  \n",
       "\n",
       "[3180 rows x 7 columns]"
      ]
     },
     "execution_count": 151,
     "metadata": {},
     "output_type": "execute_result"
    }
   ],
   "source": [
    "SDE29"
   ]
  },
  {
   "cell_type": "code",
   "execution_count": 154,
   "metadata": {},
   "outputs": [
    {
     "data": {
      "text/plain": [
       "array([ 1000,  5000,  2000,   500, 10000])"
      ]
     },
     "execution_count": 154,
     "metadata": {},
     "output_type": "execute_result"
    }
   ],
   "source": [
    "SDE29.Group"
   ]
  },
  {
   "cell_type": "code",
   "execution_count": 158,
   "metadata": {},
   "outputs": [
    {
     "data": {
      "image/png": "[encoded data removed]",
      "text/plain": [
       "<Figure size 432x288 with 1 Axes>"
      ]
     },
     "metadata": {
      "needs_background": "light"
     },
     "output_type": "display_data"
    }
   ],
   "source": [
    "from matplotlib.ticker import PercentFormatter\n",
    "\n",
    "plt.hist(SDE29.NUMBER_OF_EDITS, weights=np.ones(len(SDE29.Group)) / len(SDE29.Group))\n",
    "\n",
    "plt.gca().yaxis.set_major_formatter(PercentFormatter(1))\n",
    "plt.show()"
   ]
  }
 ],
 "metadata": {
  "kernelspec": {
   "display_name": "Python 3",
   "language": "python",
   "name": "python3"
  },
  "language_info": {
   "codemirror_mode": {
    "name": "ipython",
    "version": 3
   },
   "file_extension": ".py",
   "mimetype": "text/x-python",
   "name": "python",
   "nbconvert_exporter": "python",
   "pygments_lexer": "ipython3",
   "version": "3.7.3"
  }
 },
 "nbformat": 4,
 "nbformat_minor": 4
}
